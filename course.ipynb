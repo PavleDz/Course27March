{
 "cells": [
  {
   "cell_type": "code",
   "execution_count": null,
   "metadata": {},
   "outputs": [
    {
     "name": "stdout",
     "output_type": "stream",
     "text": [
      "Jovan\n"
     ]
    }
   ],
   "source": [
    "# a)\n",
    "knjige = {\"Marko\": 320, \"Jovan\": 1280, \"Aleksa\": 340}\n",
    "winner = max([(v, k) for k, v in knjige.items()])[1]\n",
    "print(winner)\n",
    "\n"
   ]
  },
  {
   "cell_type": "code",
   "execution_count": null,
   "metadata": {},
   "outputs": [
    {
     "name": "stdout",
     "output_type": "stream",
     "text": [
      "4\n"
     ]
    }
   ],
   "source": [
    "# b)\n",
    "text = \"Lorem ipsum dolor sit amet, consectetur adipiscing elit, sed do eiusmod tempor incididunt ut labore et dolore magna aliqua. Ut enim ad minim veniam, quis nostrud exercitation ullamco laboris nisi ut aliquip ex ea commodo consequat. Duis aute irure dolor in reprehenderit in voluptate velit esse cillum dolore eu fugiat nulla pariatur. Excepteur sint occaecat cupidatat non proident, sunt in culpa qui officia deserunt mollit anim id est laborum.\"\n",
    "\n",
    "number = sum(1 for signs in text if signs in [\"!\", \".\", \"?\"])\n",
    "print(number)"
   ]
  },
  {
   "cell_type": "code",
   "execution_count": null,
   "metadata": {},
   "outputs": [
    {
     "name": "stdout",
     "output_type": "stream",
     "text": [
      "[3, 4]\n"
     ]
    }
   ],
   "source": [
    "# c)\n",
    "a = [1, 2, 3, 4]\n",
    "b = [3, 4, 5, 6]\n",
    "\n",
    "c = [num for num in a if num in b]\n",
    "print(c)"
   ]
  },
  {
   "cell_type": "code",
   "execution_count": 7,
   "metadata": {},
   "outputs": [
    {
     "name": "stdout",
     "output_type": "stream",
     "text": [
      "3.0\n"
     ]
    }
   ],
   "source": [
    "hours=6.7\n",
    "\n",
    "print(6.7//2)"
   ]
  },
  {
   "cell_type": "code",
   "execution_count": 11,
   "metadata": {},
   "outputs": [
    {
     "name": "stdout",
     "output_type": "stream",
     "text": [
      "24\n"
     ]
    }
   ],
   "source": [
    "d=5\n",
    "s=3\n",
    "r=1\n",
    "\n",
    "print(2*(d+2*r+s+2*r))\n",
    "\n"
   ]
  },
  {
   "cell_type": "code",
   "execution_count": 13,
   "metadata": {},
   "outputs": [
    {
     "name": "stdout",
     "output_type": "stream",
     "text": [
      "Da\n",
      "Ne\n"
     ]
    }
   ],
   "source": [
    "s1=\"abcd\"\n",
    "s2=\"cd\"\n",
    "s3=\"bc\"\n",
    "print(\"Da\" if s1[-2:]==s2 else \"Ne\")\n",
    "\n",
    "print(\"Da\" if s3[-2:]==s2 else \"Ne\")\n"
   ]
  },
  {
   "cell_type": "code",
   "execution_count": 24,
   "metadata": {},
   "outputs": [
    {
     "name": "stdout",
     "output_type": "stream",
     "text": [
      "5308102019\n"
     ]
    }
   ],
   "source": [
    "s=\"“Hi Mr.Rober53. How are you today? Today is 08.10.2019”\"\n",
    "s1=\"\".join([char for char in s if char.isdigit()])\n",
    "\n",
    "number=int(s1)\n",
    "\n",
    "print(number)"
   ]
  },
  {
   "cell_type": "code",
   "execution_count": 40,
   "metadata": {},
   "outputs": [
    {
     "name": "stdout",
     "output_type": "stream",
     "text": [
      "\"ime\": \"Pavle\", \"prezime\": \"Džuverović\", \"prosjek\": \"9.0\"\n",
      "\"ime\": \"Tamara\", \"prezime\": \"Pavlović\", \"prosjek\": \"9.46\"\n"
     ]
    }
   ],
   "source": [
    "class Student:\n",
    "    def __init__(self, name, prezime, godina):\n",
    "        self._name = name\n",
    "        self._prezime = prezime\n",
    "        self._godina = godina\n",
    "        self._predmeti = []\n",
    "\n",
    "    def get_name(self):\n",
    "        return self._name\n",
    "\n",
    "    def get_prezime(self):\n",
    "        return self._prezime\n",
    "\n",
    "    def get_godina(self):\n",
    "        return self._godina\n",
    "\n",
    "    def set_name(self, name):\n",
    "        self._name = name\n",
    "\n",
    "    def set_prezime(self, prezime):\n",
    "        self._prezime = prezime\n",
    "\n",
    "    def set_godina(self, godina):\n",
    "        if 0 < godina < 8:\n",
    "            self._godina = godina\n",
    "\n",
    "    def insert_subject(self, predmet):\n",
    "        self._predmeti.append(predmet)\n",
    "\n",
    "    def remove_subject(self, predmet_naziv):\n",
    "        self._predmeti = [p for p in self._predmeti if p[\"naziv\"] != predmet_naziv]\n",
    "\n",
    "    def compute_average(self):\n",
    "        ocjene_dict = {'A': 10, 'B': 9, 'C': 8, 'D': 7, 'E': 6, 'F': 5}\n",
    "        ukupni_bodovi = 0\n",
    "        ukupni_krediti = 0\n",
    "\n",
    "        for predmet in self._predmeti:\n",
    "            ocjena = predmet['ocjena']\n",
    "            krediti = int(predmet['broj_kredita'])\n",
    "            if ocjena != 'F':\n",
    "                bodovi = ocjene_dict[ocjena]\n",
    "                ukupni_bodovi += bodovi * krediti\n",
    "                ukupni_krediti += krediti\n",
    "\n",
    "        if ukupni_krediti == 0:\n",
    "            return 0\n",
    "        return round(ukupni_bodovi / ukupni_krediti, 2)\n",
    "\n",
    "    def __str__(self):\n",
    "        return f'\"ime\": \"{self._name}\", \"prezime\": \"{self._prezime}\", \"prosjek\": \"{self.compute_average()}\"'\n",
    "\n",
    "\n",
    "\n",
    "s1 = Student(\"Pavle\", \"Džuverović\", 2)\n",
    "s2 = Student(\"Tamara\", \"Pavlović\", 3)\n",
    "\n",
    "s1.insert_subject({\"naziv\": \"Matematika\", \"ocjena\": \"C\", \"broj_kredita\": \"7\"})\n",
    "s1.insert_subject({\"naziv\": \"Fizika\", \"ocjena\": \"B\", \"broj_kredita\": \"6\"})\n",
    "\n",
    "s2.insert_subject({\"naziv\": \"Matematika\", \"ocjena\": \"B\", \"broj_kredita\": \"7\"})\n",
    "s2.insert_subject({\"naziv\": \"Fizika\", \"ocjena\": \"A\", \"broj_kredita\": \"6\"})\n",
    "\n",
    "s1.remove_subject(\"Matematika\")\n",
    "\n",
    "s2.set_godina(4)\n",
    "\n",
    "print(str(s1))\n",
    "print(str(s2))\n"
   ]
  }
 ],
 "metadata": {
  "kernelspec": {
   "display_name": ".venv",
   "language": "python",
   "name": "python3"
  },
  "language_info": {
   "codemirror_mode": {
    "name": "ipython",
    "version": 3
   },
   "file_extension": ".py",
   "mimetype": "text/x-python",
   "name": "python",
   "nbconvert_exporter": "python",
   "pygments_lexer": "ipython3",
   "version": "3.13.2"
  }
 },
 "nbformat": 4,
 "nbformat_minor": 2
}
